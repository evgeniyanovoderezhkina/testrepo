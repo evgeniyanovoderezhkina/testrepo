{
 "cells": [
  {
   "cell_type": "markdown",
   "id": "aebec74b-a1f0-462f-bebd-a401529f1a5e",
   "metadata": {},
   "source": [
    "# Data Science Tools and Ecosystem"
   ]
  },
  {
   "cell_type": "markdown",
   "id": "567d5ed9-a7b5-4164-9210-43f338639b10",
   "metadata": {},
   "source": [
    "In this notebook, Data Science Tools and Ecosystem are summarized.\n",
    "\n",
    "__Objectives:__\n",
    "\n",
    "* List popular languages that Data Scientists use.\n",
    "* List commonly used libraries used by Data Scientists\n",
    "* Demonstrate key features in code writing in Jupiter notebook"
   ]
  },
  {
   "cell_type": "markdown",
   "id": "7956f7f2-db23-4761-a5b1-e8c2235577d3",
   "metadata": {},
   "source": [
    "**Some of the popular languages that Data Scientists use are:**\n",
    "1. Python.\n",
    "2. R.\n",
    "3. SQL.\n",
    "4. Java.\n",
    "5. Julia.\n",
    "7. Scala.\n",
    "8. C/C++.\n",
    "10. JavaScript."
   ]
  },
  {
   "cell_type": "markdown",
   "id": "82ad8227-b6fc-43a7-b4ec-5ae3bf07c893",
   "metadata": {},
   "source": [
    "**Some of the commonly used libraries used by Data Scientists include:**\n",
    "1. NumPy.\n",
    "2. SciPy.\n",
    "3. Pandas.\n",
    "4. Matplotlib.\n",
    "5. Keras.\n",
    "6. SciKit-Learn.\n",
    "7. PyTorch.\n",
    "8. Scrapy.\n",
    "9. BeautifulSoup.\n",
    "10. LightGBM.\n",
    "11. ELI5.\n"
   ]
  },
  {
   "cell_type": "markdown",
   "id": "31eea2fc-7418-432d-8c68-9d2958ab76cc",
   "metadata": {},
   "source": [
    "|Data Science Tools|\n",
    "-------------------\n",
    "|Jupyter notebooks|\n",
    "|R studio|\n",
    "|Zeppelin notebooks|\n",
    "-------------------\n"
   ]
  },
  {
   "cell_type": "markdown",
   "id": "33ebc7da-cec8-4733-b243-9286b76acad7",
   "metadata": {},
   "source": [
    "### Below are a few examples of evaluating arithmetic expressions in Python"
   ]
  },
  {
   "cell_type": "code",
   "execution_count": 4,
   "id": "37d5f1f2-d668-4fad-9509-8dc70c0d10e6",
   "metadata": {
    "tags": []
   },
   "outputs": [
    {
     "name": "stdout",
     "output_type": "stream",
     "text": [
      "5\n"
     ]
    }
   ],
   "source": [
    "val1 = 2\n",
    "val2 = 3\n",
    "\n",
    "# using the addition operator\n",
    "res = val1 + val2\n",
    "print(res)"
   ]
  },
  {
   "cell_type": "code",
   "execution_count": 5,
   "id": "0c739324-8c66-4679-8928-6ecad5200144",
   "metadata": {},
   "outputs": [
    {
     "name": "stdout",
     "output_type": "stream",
     "text": [
      "8\n"
     ]
    }
   ],
   "source": [
    "val1 = 2\n",
    "val2 = 3\n",
    "\n",
    "# using the exponentiation operator\n",
    "res = val1 ** val2\n",
    "print(res)\n"
   ]
  },
  {
   "cell_type": "code",
   "execution_count": 7,
   "id": "1416ee9c-3cbd-475f-92f5-bb1640728829",
   "metadata": {},
   "outputs": [
    {
     "data": {
      "text/plain": [
       "17"
      ]
     },
     "execution_count": 7,
     "metadata": {},
     "output_type": "execute_result"
    }
   ],
   "source": [
    "# This a simple arithmetic expression to mutiply then add integers\n",
    "(3*4)+5\n"
   ]
  },
  {
   "cell_type": "markdown",
   "id": "2854d319-1e6a-4a70-97e6-10897e3e923a",
   "metadata": {},
   "source": [
    "This will convert 200 minutes to hours by diving by 60"
   ]
  },
  {
   "cell_type": "code",
   "execution_count": 14,
   "id": "dc016e16-58f2-4721-acd4-df5b9f6043ce",
   "metadata": {},
   "outputs": [
    {
     "name": "stdout",
     "output_type": "stream",
     "text": [
      "3.3333333333333335\n"
     ]
    }
   ],
   "source": [
    "# This will convert 200 minutes to hours by diving by 60\n",
    "# h=time/min\n",
    "min=60\n",
    "h=200/min\n",
    "print (h)\n"
   ]
  },
  {
   "cell_type": "markdown",
   "id": "096cfb72-e4b1-44ff-8433-ff94fe24bd87",
   "metadata": {},
   "source": [
    "## Author\n",
    "Evgeniya Novoderezhkina"
   ]
  }
 ],
 "metadata": {
  "kernelspec": {
   "display_name": "Python",
   "language": "python",
   "name": "conda-env-python-py"
  },
  "language_info": {
   "codemirror_mode": {
    "name": "ipython",
    "version": 3
   },
   "file_extension": ".py",
   "mimetype": "text/x-python",
   "name": "python",
   "nbconvert_exporter": "python",
   "pygments_lexer": "ipython3",
   "version": "3.7.12"
  }
 },
 "nbformat": 4,
 "nbformat_minor": 5
}
